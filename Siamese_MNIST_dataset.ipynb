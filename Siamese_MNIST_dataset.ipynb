{
 "cells": [
  {
   "cell_type": "code",
   "execution_count": 1,
   "metadata": {},
   "outputs": [],
   "source": [
    "%matplotlib inline\n",
    "import torchvision\n",
    "import torchvision.datasets as dset\n",
    "import torchvision.transforms as transforms\n",
    "from torch.utils.data import DataLoader, Dataset\n",
    "import matplotlib.pyplot as plt\n",
    "import torchvision.utils\n",
    "import numpy as np\n",
    "import random\n",
    "from PIL import Image\n",
    "import torch\n",
    "from torch.autograd import Variable\n",
    "import PIL.ImageOps\n",
    "import torch.nn as nn\n",
    "from torch import optim\n",
    "import torch.nn.functional as F\n"
   ]
  },
  {
   "cell_type": "markdown",
   "metadata": {},
   "source": [
    "## Helper functions\n",
    "\n",
    "For visulalisation purposes"
   ]
  },
  {
   "cell_type": "code",
   "execution_count": 2,
   "metadata": {},
   "outputs": [],
   "source": [
    "def imshow(img, text = None, should_save = False):\n",
    "    npimg = img.numpy()\n",
    "    plt.axis(\"off\")\n",
    "    if text is not None:\n",
    "        plt.text(75, 8,text, style = 'italic', fontweight = 'bold',bbox={'facecolor':'white', 'alpha':0.8, 'pad':10})\n",
    "    plt.imshow(np.transpose(npimg ,(1,2,0))) #permute the axis and show them\n",
    "    plt.show()\n",
    "\n",
    "def show_plot(iteration, loss):\n",
    "    plt.plot(iteration, loss)\n",
    "    plt.show()\n",
    "        "
   ]
  },
  {
   "cell_type": "markdown",
   "metadata": {},
   "source": [
    "## Configuration Function\n",
    "\n",
    "Change here for a global effect"
   ]
  },
  {
   "cell_type": "code",
   "execution_count": 24,
   "metadata": {},
   "outputs": [],
   "source": [
    "class Config():\n",
    "    training_dir = './data/train'\n",
    "    testing_dir = './data/test'\n",
    "    saving_dir = './MODEL'\n",
    "    train_batch_size = 128 #change this according to requirement\n",
    "    train_number_epochs = 20 #change this according to requirement"
   ]
  },
  {
   "cell_type": "markdown",
   "metadata": {},
   "source": [
    "## Dataset Class\n",
    "\n",
    "Returns two images and a label.\n",
    "\n",
    "Label 0 - if both images belong to similar class\n",
    "Label 1 - if they belong to different class"
   ]
  },
  {
   "cell_type": "code",
   "execution_count": 4,
   "metadata": {},
   "outputs": [],
   "source": [
    "class SiameseMNIST(Dataset):\n",
    "    \"\"\"\n",
    "    Train: For each sample creates randomly a positive or a negative pair\n",
    "    Test: Creates fixed pairs for testing\n",
    "    \"\"\"\n",
    "\n",
    "    def __init__(self, mnist_dataset):\n",
    "        self.mnist_dataset = mnist_dataset\n",
    "\n",
    "        self.train = self.mnist_dataset.train\n",
    "        self.transform = self.mnist_dataset.transform\n",
    "\n",
    "        if self.train:\n",
    "            self.train_labels = self.mnist_dataset.train_labels\n",
    "            self.train_data = self.mnist_dataset.train_data\n",
    "            self.labels_set = set(self.train_labels.numpy())\n",
    "            self.label_to_indices = {label: np.where(self.train_labels.numpy() == label)[0]\n",
    "                                     for label in self.labels_set}\n",
    "        else:\n",
    "            # generate fixed pairs for testing\n",
    "            self.test_labels = self.mnist_dataset.test_labels\n",
    "            self.test_data = self.mnist_dataset.test_data\n",
    "            self.labels_set = set(self.test_labels.numpy())\n",
    "            self.label_to_indices = {label: np.where(self.test_labels.numpy() == label)[0]\n",
    "                                     for label in self.labels_set}\n",
    "\n",
    "            random_state = np.random.RandomState(29)\n",
    "\n",
    "            positive_pairs = [[i,\n",
    "                               random_state.choice(self.label_to_indices[self.test_labels[i].item()]),\n",
    "                               1]\n",
    "                              for i in range(0, len(self.test_data), 2)]\n",
    "\n",
    "            negative_pairs = [[i,\n",
    "                               random_state.choice(self.label_to_indices[\n",
    "                                                       np.random.choice(\n",
    "                                                           list(self.labels_set - set([self.test_labels[i].item()]))\n",
    "                                                       )\n",
    "                                                   ]),\n",
    "                               0]\n",
    "                              for i in range(1, len(self.test_data), 2)]\n",
    "            self.test_pairs = positive_pairs + negative_pairs\n",
    "\n",
    "    def __getitem__(self, index):\n",
    "        if self.train:\n",
    "            target = np.random.randint(0, 2)\n",
    "            img1, label1 = self.train_data[index], self.train_labels[index].item()\n",
    "            if target == 1:\n",
    "                siamese_index = index\n",
    "                while siamese_index == index:\n",
    "                    siamese_index = np.random.choice(self.label_to_indices[label1])\n",
    "            else:\n",
    "                siamese_label = np.random.choice(list(self.labels_set - set([label1])))\n",
    "                siamese_index = np.random.choice(self.label_to_indices[siamese_label])\n",
    "            img2 = self.train_data[siamese_index]\n",
    "        else:\n",
    "            img1 = self.test_data[self.test_pairs[index][0]]\n",
    "            img2 = self.test_data[self.test_pairs[index][1]]\n",
    "            target = self.test_pairs[index][2]\n",
    "\n",
    "        img1 = Image.fromarray(img1.numpy(), mode='L')\n",
    "        img2 = Image.fromarray(img2.numpy(), mode='L')\n",
    "        if self.transform is not None:\n",
    "            img1 = self.transform(img1)\n",
    "            img2 = self.transform(img2)\n",
    "        return (img1, img2), target\n",
    "\n",
    "    def __len__(self):\n",
    "        return len(self.mnist_dataset)"
   ]
  },
  {
   "cell_type": "code",
   "execution_count": 5,
   "metadata": {},
   "outputs": [],
   "source": [
    "trans = transforms.Compose([transforms.ToTensor(), transforms.Normalize((0.5,), (1.0,))])"
   ]
  },
  {
   "cell_type": "code",
   "execution_count": 6,
   "metadata": {},
   "outputs": [],
   "source": [
    "pytorch_mnist_train_dataset = dset.MNIST(root= '.', train=True, transform=trans,download=True)\n",
    "pytorch_mnist_test_dataset = dset.MNIST(root = '.', train=False, transform=trans,download=True)"
   ]
  },
  {
   "cell_type": "code",
   "execution_count": 7,
   "metadata": {},
   "outputs": [
    {
     "data": {
      "text/plain": [
       "Dataset MNIST\n",
       "    Number of datapoints: 60000\n",
       "    Split: train\n",
       "    Root Location: .\n",
       "    Transforms (if any): Compose(\n",
       "                             ToTensor()\n",
       "                             Normalize(mean=(0.5,), std=(1.0,))\n",
       "                         )\n",
       "    Target Transforms (if any): None"
      ]
     },
     "execution_count": 7,
     "metadata": {},
     "output_type": "execute_result"
    }
   ],
   "source": [
    "pytorch_mnist_train_dataset\n",
    "\n",
    "#output of dset.MNIST function of dset gives a tuple\n",
    "#The the first [] indicates what image is chosen\n",
    "#the second [] [0] shows the image itself , [][1] shows the integer label of the class assigned by pytorch"
   ]
  },
  {
   "cell_type": "code",
   "execution_count": 8,
   "metadata": {},
   "outputs": [
    {
     "data": {
      "text/plain": [
       "Dataset MNIST\n",
       "    Number of datapoints: 10000\n",
       "    Split: test\n",
       "    Root Location: .\n",
       "    Transforms (if any): Compose(\n",
       "                             ToTensor()\n",
       "                             Normalize(mean=(0.5,), std=(1.0,))\n",
       "                         )\n",
       "    Target Transforms (if any): None"
      ]
     },
     "execution_count": 8,
     "metadata": {},
     "output_type": "execute_result"
    }
   ],
   "source": [
    "pytorch_mnist_test_dataset\n"
   ]
  },
  {
   "cell_type": "code",
   "execution_count": 9,
   "metadata": {},
   "outputs": [
    {
     "name": "stdout",
     "output_type": "stream",
     "text": [
      "The length of training dataset is: 60000\n"
     ]
    }
   ],
   "source": [
    "#translating the dataset to make it ready for siamese dataset\n",
    "mnist_train_dataset = SiameseMNIST(pytorch_mnist_train_dataset)\n",
    "print(\"The length of training dataset is: {}\".format(len(mnist_train_dataset)))"
   ]
  },
  {
   "cell_type": "code",
   "execution_count": 10,
   "metadata": {},
   "outputs": [
    {
     "name": "stdout",
     "output_type": "stream",
     "text": [
      "The length of testing dataset is: 10000\n"
     ]
    }
   ],
   "source": [
    "mnist_test_dataset = SiameseMNIST(pytorch_mnist_test_dataset)\n",
    "print(\"The length of testing dataset is: {}\".format(len(mnist_test_dataset)))"
   ]
  },
  {
   "cell_type": "markdown",
   "metadata": {},
   "source": [
    "## Visualising the data\n",
    "\n"
   ]
  },
  {
   "cell_type": "code",
   "execution_count": 11,
   "metadata": {},
   "outputs": [
    {
     "name": "stderr",
     "output_type": "stream",
     "text": [
      "Clipping input data to the valid range for imshow with RGB data ([0..1] for floats or [0..255] for integers).\n"
     ]
    },
    {
     "name": "stdout",
     "output_type": "stream",
     "text": [
      "Number of IMG0 in a batch: 8\n",
      "Number of IMG1 in a batch: 8\n",
      "Number of labels in a batch: 8\n",
      "B * CHANNELS * DIMENSIONS for IMG0: torch.Size([8, 1, 28, 28])\n",
      "B * CHANNELS * DIMENSIONS for IMG1: torch.Size([8, 1, 28, 28])\n",
      "DIMENSIONS of IMG0: torch.Size([1, 28, 28])\n",
      "DIMENSIONS of IMG1: torch.Size([1, 28, 28])\n",
      "torch.Size([16, 1, 28, 28])\n"
     ]
    },
    {
     "data": {
      "image/png": "[encoded data removed]",
      "text/plain": [
       "<Figure size 432x288 with 1 Axes>"
      ]
     },
     "metadata": {
      "needs_background": "light"
     },
     "output_type": "display_data"
    },
    {
     "name": "stdout",
     "output_type": "stream",
     "text": [
      "tensor([1, 0, 1, 0, 0, 0, 1, 1])\n"
     ]
    },
    {
     "name": "stderr",
     "output_type": "stream",
     "text": [
      "Process Process-4:\n",
      "Process Process-2:\n",
      "Process Process-3:\n",
      "Process Process-1:\n",
      "Traceback (most recent call last):\n",
      "Traceback (most recent call last):\n",
      "Traceback (most recent call last):\n",
      "Traceback (most recent call last):\n",
      "  File \"/Users/saivineethks/anaconda3/envs/pytorch/lib/python3.6/multiprocessing/process.py\", line 258, in _bootstrap\n",
      "    self.run()\n",
      "  File \"/Users/saivineethks/anaconda3/envs/pytorch/lib/python3.6/multiprocessing/process.py\", line 258, in _bootstrap\n",
      "    self.run()\n",
      "  File \"/Users/saivineethks/anaconda3/envs/pytorch/lib/python3.6/multiprocessing/process.py\", line 258, in _bootstrap\n",
      "    self.run()\n",
      "  File \"/Users/saivineethks/anaconda3/envs/pytorch/lib/python3.6/multiprocessing/process.py\", line 258, in _bootstrap\n",
      "    self.run()\n",
      "  File \"/Users/saivineethks/anaconda3/envs/pytorch/lib/python3.6/multiprocessing/process.py\", line 93, in run\n",
      "    self._target(*self._args, **self._kwargs)\n",
      "  File \"/Users/saivineethks/anaconda3/envs/pytorch/lib/python3.6/site-packages/torch/utils/data/dataloader.py\", line 96, in _worker_loop\n",
      "    r = index_queue.get(timeout=MANAGER_STATUS_CHECK_INTERVAL)\n",
      "  File \"/Users/saivineethks/anaconda3/envs/pytorch/lib/python3.6/multiprocessing/process.py\", line 93, in run\n",
      "    self._target(*self._args, **self._kwargs)\n",
      "  File \"/Users/saivineethks/anaconda3/envs/pytorch/lib/python3.6/multiprocessing/queues.py\", line 104, in get\n",
      "    if not self._poll(timeout):\n",
      "  File \"/Users/saivineethks/anaconda3/envs/pytorch/lib/python3.6/multiprocessing/process.py\", line 93, in run\n",
      "    self._target(*self._args, **self._kwargs)\n",
      "  File \"/Users/saivineethks/anaconda3/envs/pytorch/lib/python3.6/multiprocessing/connection.py\", line 257, in poll\n",
      "    return self._poll(timeout)\n",
      "  File \"/Users/saivineethks/anaconda3/envs/pytorch/lib/python3.6/site-packages/torch/utils/data/dataloader.py\", line 96, in _worker_loop\n",
      "    r = index_queue.get(timeout=MANAGER_STATUS_CHECK_INTERVAL)\n",
      "  File \"/Users/saivineethks/anaconda3/envs/pytorch/lib/python3.6/multiprocessing/process.py\", line 93, in run\n",
      "    self._target(*self._args, **self._kwargs)\n",
      "  File \"/Users/saivineethks/anaconda3/envs/pytorch/lib/python3.6/multiprocessing/connection.py\", line 414, in _poll\n",
      "    r = wait([self], timeout)\n",
      "  File \"/Users/saivineethks/anaconda3/envs/pytorch/lib/python3.6/multiprocessing/connection.py\", line 911, in wait\n",
      "    ready = selector.select(timeout)\n",
      "  File \"/Users/saivineethks/anaconda3/envs/pytorch/lib/python3.6/site-packages/torch/utils/data/dataloader.py\", line 96, in _worker_loop\n",
      "    r = index_queue.get(timeout=MANAGER_STATUS_CHECK_INTERVAL)\n",
      "  File \"/Users/saivineethks/anaconda3/envs/pytorch/lib/python3.6/selectors.py\", line 376, in select\n",
      "    fd_event_list = self._poll.poll(timeout)\n",
      "  File \"/Users/saivineethks/anaconda3/envs/pytorch/lib/python3.6/multiprocessing/queues.py\", line 104, in get\n",
      "    if not self._poll(timeout):\n",
      "KeyboardInterrupt\n",
      "  File \"/Users/saivineethks/anaconda3/envs/pytorch/lib/python3.6/site-packages/torch/utils/data/dataloader.py\", line 96, in _worker_loop\n",
      "    r = index_queue.get(timeout=MANAGER_STATUS_CHECK_INTERVAL)\n",
      "  File \"/Users/saivineethks/anaconda3/envs/pytorch/lib/python3.6/multiprocessing/queues.py\", line 104, in get\n",
      "    if not self._poll(timeout):\n",
      "  File \"/Users/saivineethks/anaconda3/envs/pytorch/lib/python3.6/multiprocessing/connection.py\", line 257, in poll\n",
      "    return self._poll(timeout)\n",
      "  File \"/Users/saivineethks/anaconda3/envs/pytorch/lib/python3.6/multiprocessing/queues.py\", line 104, in get\n",
      "    if not self._poll(timeout):\n",
      "  File \"/Users/saivineethks/anaconda3/envs/pytorch/lib/python3.6/multiprocessing/connection.py\", line 257, in poll\n",
      "    return self._poll(timeout)\n",
      "  File \"/Users/saivineethks/anaconda3/envs/pytorch/lib/python3.6/multiprocessing/connection.py\", line 414, in _poll\n",
      "    r = wait([self], timeout)\n",
      "  File \"/Users/saivineethks/anaconda3/envs/pytorch/lib/python3.6/multiprocessing/connection.py\", line 257, in poll\n",
      "    return self._poll(timeout)\n",
      "  File \"/Users/saivineethks/anaconda3/envs/pytorch/lib/python3.6/multiprocessing/connection.py\", line 414, in _poll\n",
      "    r = wait([self], timeout)\n",
      "  File \"/Users/saivineethks/anaconda3/envs/pytorch/lib/python3.6/multiprocessing/connection.py\", line 414, in _poll\n",
      "    r = wait([self], timeout)\n",
      "  File \"/Users/saivineethks/anaconda3/envs/pytorch/lib/python3.6/multiprocessing/connection.py\", line 911, in wait\n",
      "    ready = selector.select(timeout)\n",
      "  File \"/Users/saivineethks/anaconda3/envs/pytorch/lib/python3.6/multiprocessing/connection.py\", line 911, in wait\n",
      "    ready = selector.select(timeout)\n",
      "  File \"/Users/saivineethks/anaconda3/envs/pytorch/lib/python3.6/multiprocessing/connection.py\", line 911, in wait\n",
      "    ready = selector.select(timeout)\n",
      "  File \"/Users/saivineethks/anaconda3/envs/pytorch/lib/python3.6/selectors.py\", line 376, in select\n",
      "    fd_event_list = self._poll.poll(timeout)\n",
      "  File \"/Users/saivineethks/anaconda3/envs/pytorch/lib/python3.6/selectors.py\", line 376, in select\n",
      "    fd_event_list = self._poll.poll(timeout)\n",
      "  File \"/Users/saivineethks/anaconda3/envs/pytorch/lib/python3.6/selectors.py\", line 376, in select\n",
      "    fd_event_list = self._poll.poll(timeout)\n",
      "KeyboardInterrupt\n",
      "KeyboardInterrupt\n",
      "KeyboardInterrupt\n"
     ]
    }
   ],
   "source": [
    "#TRAINING DATA BATCH\n",
    "vis_dataloader = DataLoader(mnist_train_dataset,\n",
    "                           shuffle = True,\n",
    "                           num_workers = 4,\n",
    "                           batch_size = 8) #load the dataset\n",
    "\n",
    "dataiter = iter(vis_dataloader)\n",
    "\n",
    "first_batch_train = next(dataiter)\n",
    "\n",
    "\n",
    "print(\"Number of IMG0 in a batch: {}\".format(len(first_batch_train[0][0])))\n",
    "print(\"Number of IMG1 in a batch: {}\".format(len(first_batch_train[0][1])))\n",
    "print(\"Number of labels in a batch: {}\".format(len(first_batch_train[1])))\n",
    "print(\"B * CHANNELS * DIMENSIONS for IMG0: {}\".format(first_batch_train[0][0].size()))\n",
    "print(\"B * CHANNELS * DIMENSIONS for IMG1: {}\".format(first_batch_train[0][1].size()))\n",
    "print(\"DIMENSIONS of IMG0: {}\".format(first_batch_train[0][0][1].size()))\n",
    "print(\"DIMENSIONS of IMG1: {}\".format(first_batch_train[0][1][1].size()))\n",
    "concatenated = torch.cat((first_batch_train[0][0], first_batch_train[0][1]), 0) #concatenate both batches = total sixteen images (including img1 and img2)\n",
    "print(concatenated.size())\n",
    "imshow(torchvision.utils.make_grid(concatenated))\n",
    "print(first_batch_train[1]) #shows one for similar and 0 for dissimilar\n",
    "\n"
   ]
  },
  {
   "cell_type": "code",
   "execution_count": 12,
   "metadata": {},
   "outputs": [
    {
     "name": "stderr",
     "output_type": "stream",
     "text": [
      "Clipping input data to the valid range for imshow with RGB data ([0..1] for floats or [0..255] for integers).\n"
     ]
    },
    {
     "name": "stdout",
     "output_type": "stream",
     "text": [
      "Number of IMG0 in a batch: 8\n",
      "Number of IMG1 in a batch: 8\n",
      "Number of labels in a batch: 8\n",
      "B * CHANNELS * DIMENSIONS for IMG0: torch.Size([8, 1, 28, 28])\n",
      "B * CHANNELS * DIMENSIONS for IMG1: torch.Size([8, 1, 28, 28])\n",
      "DIMENSIONS of IMG0: torch.Size([1, 28, 28])\n",
      "DIMENSIONS of IMG1: torch.Size([1, 28, 28])\n",
      "torch.Size([16, 1, 28, 28])\n"
     ]
    },
    {
     "data": {
      "image/png": "[encoded data removed]",
      "text/plain": [
       "<Figure size 432x288 with 1 Axes>"
      ]
     },
     "metadata": {
      "needs_background": "light"
     },
     "output_type": "display_data"
    },
    {
     "name": "stdout",
     "output_type": "stream",
     "text": [
      "tensor([0, 0, 1, 1, 1, 0, 1, 0])\n"
     ]
    },
    {
     "name": "stderr",
     "output_type": "stream",
     "text": [
      "Process Process-7:\n",
      "Process Process-8:\n",
      "Process Process-6:\n",
      "Process Process-5:\n",
      "Traceback (most recent call last):\n",
      "Traceback (most recent call last):\n",
      "Traceback (most recent call last):\n",
      "Traceback (most recent call last):\n",
      "  File \"/Users/saivineethks/anaconda3/envs/pytorch/lib/python3.6/multiprocessing/process.py\", line 258, in _bootstrap\n",
      "    self.run()\n",
      "  File \"/Users/saivineethks/anaconda3/envs/pytorch/lib/python3.6/multiprocessing/process.py\", line 258, in _bootstrap\n",
      "    self.run()\n",
      "  File \"/Users/saivineethks/anaconda3/envs/pytorch/lib/python3.6/multiprocessing/process.py\", line 258, in _bootstrap\n",
      "    self.run()\n",
      "  File \"/Users/saivineethks/anaconda3/envs/pytorch/lib/python3.6/multiprocessing/process.py\", line 258, in _bootstrap\n",
      "    self.run()\n",
      "  File \"/Users/saivineethks/anaconda3/envs/pytorch/lib/python3.6/multiprocessing/process.py\", line 93, in run\n",
      "    self._target(*self._args, **self._kwargs)\n",
      "  File \"/Users/saivineethks/anaconda3/envs/pytorch/lib/python3.6/multiprocessing/process.py\", line 93, in run\n",
      "    self._target(*self._args, **self._kwargs)\n",
      "  File \"/Users/saivineethks/anaconda3/envs/pytorch/lib/python3.6/multiprocessing/process.py\", line 93, in run\n",
      "    self._target(*self._args, **self._kwargs)\n",
      "  File \"/Users/saivineethks/anaconda3/envs/pytorch/lib/python3.6/multiprocessing/process.py\", line 93, in run\n",
      "    self._target(*self._args, **self._kwargs)\n",
      "  File \"/Users/saivineethks/anaconda3/envs/pytorch/lib/python3.6/site-packages/torch/utils/data/dataloader.py\", line 96, in _worker_loop\n",
      "    r = index_queue.get(timeout=MANAGER_STATUS_CHECK_INTERVAL)\n",
      "  File \"/Users/saivineethks/anaconda3/envs/pytorch/lib/python3.6/site-packages/torch/utils/data/dataloader.py\", line 96, in _worker_loop\n",
      "    r = index_queue.get(timeout=MANAGER_STATUS_CHECK_INTERVAL)\n",
      "  File \"/Users/saivineethks/anaconda3/envs/pytorch/lib/python3.6/site-packages/torch/utils/data/dataloader.py\", line 96, in _worker_loop\n",
      "    r = index_queue.get(timeout=MANAGER_STATUS_CHECK_INTERVAL)\n",
      "  File \"/Users/saivineethks/anaconda3/envs/pytorch/lib/python3.6/multiprocessing/queues.py\", line 104, in get\n",
      "    if not self._poll(timeout):\n",
      "  File \"/Users/saivineethks/anaconda3/envs/pytorch/lib/python3.6/site-packages/torch/utils/data/dataloader.py\", line 96, in _worker_loop\n",
      "    r = index_queue.get(timeout=MANAGER_STATUS_CHECK_INTERVAL)\n",
      "  File \"/Users/saivineethks/anaconda3/envs/pytorch/lib/python3.6/multiprocessing/queues.py\", line 104, in get\n",
      "    if not self._poll(timeout):\n",
      "  File \"/Users/saivineethks/anaconda3/envs/pytorch/lib/python3.6/multiprocessing/queues.py\", line 104, in get\n",
      "    if not self._poll(timeout):\n",
      "  File \"/Users/saivineethks/anaconda3/envs/pytorch/lib/python3.6/multiprocessing/connection.py\", line 257, in poll\n",
      "    return self._poll(timeout)\n",
      "  File \"/Users/saivineethks/anaconda3/envs/pytorch/lib/python3.6/multiprocessing/connection.py\", line 414, in _poll\n",
      "    r = wait([self], timeout)\n",
      "  File \"/Users/saivineethks/anaconda3/envs/pytorch/lib/python3.6/multiprocessing/queues.py\", line 104, in get\n",
      "    if not self._poll(timeout):\n",
      "  File \"/Users/saivineethks/anaconda3/envs/pytorch/lib/python3.6/multiprocessing/connection.py\", line 257, in poll\n",
      "    return self._poll(timeout)\n",
      "  File \"/Users/saivineethks/anaconda3/envs/pytorch/lib/python3.6/multiprocessing/connection.py\", line 911, in wait\n",
      "    ready = selector.select(timeout)\n",
      "  File \"/Users/saivineethks/anaconda3/envs/pytorch/lib/python3.6/multiprocessing/connection.py\", line 257, in poll\n",
      "    return self._poll(timeout)\n",
      "  File \"/Users/saivineethks/anaconda3/envs/pytorch/lib/python3.6/multiprocessing/connection.py\", line 414, in _poll\n",
      "    r = wait([self], timeout)\n",
      "  File \"/Users/saivineethks/anaconda3/envs/pytorch/lib/python3.6/multiprocessing/connection.py\", line 257, in poll\n",
      "    return self._poll(timeout)\n",
      "  File \"/Users/saivineethks/anaconda3/envs/pytorch/lib/python3.6/selectors.py\", line 376, in select\n",
      "    fd_event_list = self._poll.poll(timeout)\n",
      "  File \"/Users/saivineethks/anaconda3/envs/pytorch/lib/python3.6/multiprocessing/connection.py\", line 911, in wait\n",
      "    ready = selector.select(timeout)\n",
      "  File \"/Users/saivineethks/anaconda3/envs/pytorch/lib/python3.6/multiprocessing/connection.py\", line 414, in _poll\n",
      "    r = wait([self], timeout)\n",
      "KeyboardInterrupt\n",
      "  File \"/Users/saivineethks/anaconda3/envs/pytorch/lib/python3.6/multiprocessing/connection.py\", line 414, in _poll\n",
      "    r = wait([self], timeout)\n",
      "  File \"/Users/saivineethks/anaconda3/envs/pytorch/lib/python3.6/selectors.py\", line 376, in select\n",
      "    fd_event_list = self._poll.poll(timeout)\n",
      "  File \"/Users/saivineethks/anaconda3/envs/pytorch/lib/python3.6/multiprocessing/connection.py\", line 911, in wait\n",
      "    ready = selector.select(timeout)\n",
      "  File \"/Users/saivineethks/anaconda3/envs/pytorch/lib/python3.6/multiprocessing/connection.py\", line 911, in wait\n",
      "    ready = selector.select(timeout)\n",
      "KeyboardInterrupt\n",
      "  File \"/Users/saivineethks/anaconda3/envs/pytorch/lib/python3.6/selectors.py\", line 376, in select\n",
      "    fd_event_list = self._poll.poll(timeout)\n",
      "  File \"/Users/saivineethks/anaconda3/envs/pytorch/lib/python3.6/selectors.py\", line 376, in select\n",
      "    fd_event_list = self._poll.poll(timeout)\n",
      "KeyboardInterrupt\n",
      "KeyboardInterrupt\n"
     ]
    }
   ],
   "source": [
    "#TESTING DATA BATCH\n",
    "vis_dataloader = DataLoader(mnist_test_dataset,\n",
    "                           shuffle = True,\n",
    "                           num_workers = 4,\n",
    "                           batch_size = 8) #load the dataset\n",
    "\n",
    "dataiter_test = iter(vis_dataloader)\n",
    "\n",
    "first_batch_test = next(dataiter_test)\n",
    "\n",
    "\n",
    "print(\"Number of IMG0 in a batch: {}\".format(len(first_batch_test[0][0])))\n",
    "print(\"Number of IMG1 in a batch: {}\".format(len(first_batch_test[0][1])))\n",
    "print(\"Number of labels in a batch: {}\".format(len(first_batch_test[1])))\n",
    "print(\"B * CHANNELS * DIMENSIONS for IMG0: {}\".format(first_batch_test[0][0].size()))\n",
    "print(\"B * CHANNELS * DIMENSIONS for IMG1: {}\".format(first_batch_test[0][1].size()))\n",
    "print(\"DIMENSIONS of IMG0: {}\".format(first_batch_test[0][0][1].size()))\n",
    "print(\"DIMENSIONS of IMG1: {}\".format(first_batch_test[0][1][1].size()))\n",
    "concatenated = torch.cat((first_batch_test[0][0], first_batch_test[0][1]), 0) #concatenate both batches = total sixteen images (including img1 and img2)\n",
    "print(concatenated.size())\n",
    "imshow(torchvision.utils.make_grid(concatenated))\n",
    "print(first_batch_test[1]) #shows one for similar and 0 for dissimilar\n",
    "\n",
    "\n"
   ]
  },
  {
   "cell_type": "code",
   "execution_count": 13,
   "metadata": {},
   "outputs": [
    {
     "name": "stderr",
     "output_type": "stream",
     "text": [
      "Clipping input data to the valid range for imshow with RGB data ([0..1] for floats or [0..255] for integers).\n"
     ]
    },
    {
     "name": "stdout",
     "output_type": "stream",
     "text": [
      "The label 0 indicates IMAGES FROM SAME CLASS and 1 indicates IMAGES FROM DIFFERENT CLASS\n"
     ]
    },
    {
     "data": {
      "image/png": "[encoded data removed]",
      "text/plain": [
       "<Figure size 432x288 with 1 Axes>"
      ]
     },
     "metadata": {
      "needs_background": "light"
     },
     "output_type": "display_data"
    },
    {
     "name": "stderr",
     "output_type": "stream",
     "text": [
      "Clipping input data to the valid range for imshow with RGB data ([0..1] for floats or [0..255] for integers).\n"
     ]
    },
    {
     "data": {
      "image/png": "[encoded data removed]",
      "text/plain": [
       "<Figure size 432x288 with 1 Axes>"
      ]
     },
     "metadata": {
      "needs_background": "light"
     },
     "output_type": "display_data"
    },
    {
     "name": "stderr",
     "output_type": "stream",
     "text": [
      "Clipping input data to the valid range for imshow with RGB data ([0..1] for floats or [0..255] for integers).\n"
     ]
    },
    {
     "data": {
      "image/png": "[encoded data removed]",
      "text/plain": [
       "<Figure size 432x288 with 1 Axes>"
      ]
     },
     "metadata": {
      "needs_background": "light"
     },
     "output_type": "display_data"
    },
    {
     "name": "stderr",
     "output_type": "stream",
     "text": [
      "Clipping input data to the valid range for imshow with RGB data ([0..1] for floats or [0..255] for integers).\n"
     ]
    },
    {
     "data": {
      "image/png": "[encoded data removed]",
      "text/plain": [
       "<Figure size 432x288 with 1 Axes>"
      ]
     },
     "metadata": {
      "needs_background": "light"
     },
     "output_type": "display_data"
    },
    {
     "name": "stderr",
     "output_type": "stream",
     "text": [
      "Clipping input data to the valid range for imshow with RGB data ([0..1] for floats or [0..255] for integers).\n"
     ]
    },
    {
     "data": {
      "image/png": "[encoded data removed]",
      "text/plain": [
       "<Figure size 432x288 with 1 Axes>"
      ]
     },
     "metadata": {
      "needs_background": "light"
     },
     "output_type": "display_data"
    },
    {
     "name": "stderr",
     "output_type": "stream",
     "text": [
      "Clipping input data to the valid range for imshow with RGB data ([0..1] for floats or [0..255] for integers).\n"
     ]
    },
    {
     "data": {
      "image/png": "[encoded data removed]",
      "text/plain": [
       "<Figure size 432x288 with 1 Axes>"
      ]
     },
     "metadata": {
      "needs_background": "light"
     },
     "output_type": "display_data"
    },
    {
     "name": "stderr",
     "output_type": "stream",
     "text": [
      "Clipping input data to the valid range for imshow with RGB data ([0..1] for floats or [0..255] for integers).\n"
     ]
    },
    {
     "data": {
      "image/png": "[encoded data removed]",
      "text/plain": [
       "<Figure size 432x288 with 1 Axes>"
      ]
     },
     "metadata": {
      "needs_background": "light"
     },
     "output_type": "display_data"
    },
    {
     "name": "stderr",
     "output_type": "stream",
     "text": [
      "Clipping input data to the valid range for imshow with RGB data ([0..1] for floats or [0..255] for integers).\n"
     ]
    },
    {
     "data": {
      "image/png": "[encoded data removed]",
      "text/plain": [
       "<Figure size 432x288 with 1 Axes>"
      ]
     },
     "metadata": {
      "needs_background": "light"
     },
     "output_type": "display_data"
    }
   ],
   "source": [
    "# second way of visualising train dataset\n",
    "\n",
    "print(\"The label 0 indicates IMAGES FROM SAME CLASS and 1 indicates IMAGES FROM DIFFERENT CLASS\")\n",
    "for i in range(len(first_batch_train[0][0])):\n",
    "    #print image tuples of first batch\n",
    "    cat = torch.cat((first_batch_train[0][0][i].squeeze(), first_batch_train[0][1][i].squeeze()), 0)\n",
    "    imshow(torchvision.utils.make_grid(cat), text = str(first_batch_train[1][i].numpy()))"
   ]
  },
  {
   "cell_type": "markdown",
   "metadata": {},
   "source": [
    "# Neural Net Definition"
   ]
  },
  {
   "cell_type": "code",
   "execution_count": 14,
   "metadata": {},
   "outputs": [],
   "source": [
    "class SiameseNeuralNetwork(nn.Module):\n",
    "    def __init__(self):\n",
    "        super(SiameseNeuralNetwork, self).__init__()\n",
    "        self.cnn1 = nn.Sequential(\n",
    "        nn.Conv2d(1, 32, kernel_size = 5),\n",
    "        nn.PReLU(),\n",
    "        nn.MaxPool2d(2, stride = 2)\n",
    "        )\n",
    "        \n",
    "        self.cnn2 = nn.Sequential(\n",
    "        nn.Conv2d(32, 64, kernel_size = 5),\n",
    "        nn.PReLU(), #parametric relu\n",
    "        nn.MaxPool2d(2, stride = 2)\n",
    "        )\n",
    "        \n",
    "        self.fc1 = nn.Sequential(\n",
    "        nn.Linear(64 * 4 * 4, 256),\n",
    "        nn.PReLU(),\n",
    "        nn.Linear(256,256),\n",
    "        nn.PReLU(),\n",
    "        nn.Linear(256,2)\n",
    "        )\n",
    "        \n",
    "    \n",
    "    def forward_once(self, x):\n",
    "        output = self.cnn1(x)\n",
    "        output = self.cnn2(output)\n",
    "        output = output.view(output.size()[0], -1)\n",
    "        output = self.fc1(output)\n",
    "        return output\n",
    "    \n",
    "    def forward(self, input1, input2):\n",
    "        output1 = self.forward_once(input1)\n",
    "        output2 = self.forward_once(input2)\n",
    "        return output1, output2"
   ]
  },
  {
   "cell_type": "markdown",
   "metadata": {},
   "source": [
    "## Contrastive Loss\n"
   ]
  },
  {
   "cell_type": "code",
   "execution_count": 15,
   "metadata": {},
   "outputs": [],
   "source": [
    "class ContrastiveLoss(nn.Module):\n",
    "    \"\"\"\n",
    "    Contrastive loss\n",
    "    Takes embeddings of two samples and a target label == 1 if samples are from the same class and label == 0 otherwise\n",
    "    \"\"\"\n",
    "\n",
    "    def __init__(self, margin):\n",
    "        super(ContrastiveLoss, self).__init__()\n",
    "        self.margin = margin\n",
    "        self.eps = 1e-9\n",
    "\n",
    "    def forward(self, output1, output2, target, size_average=True):\n",
    "        distances = (output2 - output1).pow(2).sum(1)  # squared distances\n",
    "        losses = 0.5 * (target.float() * distances +\n",
    "                        (1 + -1 * target).float() * F.relu(self.margin - (distances + self.eps).sqrt()).pow(2))\n",
    "        return losses.mean() if size_average else losses.sum()\n"
   ]
  },
  {
   "cell_type": "markdown",
   "metadata": {},
   "source": [
    "# Training Phase"
   ]
  },
  {
   "cell_type": "code",
   "execution_count": 16,
   "metadata": {},
   "outputs": [],
   "source": [
    "train_dataloader = DataLoader(mnist_train_dataset,\n",
    "                             shuffle=True,\n",
    "                             num_workers=4,\n",
    "                             batch_size = Config.train_batch_size)"
   ]
  },
  {
   "cell_type": "code",
   "execution_count": 17,
   "metadata": {},
   "outputs": [],
   "source": [
    "margin = 1.\n",
    "net = SiameseNeuralNetwork()\n",
    "criterion = ContrastiveLoss(margin)\n",
    "lr = 1e-3\n",
    "optimizer = optim.Adam(net.parameters(), lr = lr)"
   ]
  },
  {
   "cell_type": "code",
   "execution_count": 18,
   "metadata": {},
   "outputs": [],
   "source": [
    "counter = []\n",
    "loss_list = []\n",
    "iteration_number = 0"
   ]
  },
  {
   "cell_type": "code",
   "execution_count": 22,
   "metadata": {},
   "outputs": [
    {
     "name": "stdout",
     "output_type": "stream",
     "text": [
      "Epoch 0 Running\n",
      "Epoch Number: 0 Current Loss: 0.232558935880661\n",
      "Epoch Number: 0 Current Loss: 0.05124713107943535\n",
      "Epoch Number: 0 Current Loss: 0.0521305687725544\n",
      "Epoch Number: 0 Current Loss: 0.043987859040498734\n",
      "Epoch Number: 0 Current Loss: 0.0397757813334465\n",
      "Epoch 1 Running\n",
      "Epoch Number: 1 Current Loss: 0.02606683038175106\n",
      "Epoch Number: 1 Current Loss: 0.021421518176794052\n",
      "Epoch Number: 1 Current Loss: 0.024586671963334084\n",
      "Epoch Number: 1 Current Loss: 0.02165883779525757\n",
      "Epoch Number: 1 Current Loss: 0.011715095490217209\n",
      "Epoch 2 Running\n",
      "Epoch Number: 2 Current Loss: 0.010111229494214058\n",
      "Epoch Number: 2 Current Loss: 0.01220673881471157\n",
      "Epoch Number: 2 Current Loss: 0.011940514668822289\n",
      "Epoch Number: 2 Current Loss: 0.0068270545452833176\n",
      "Epoch Number: 2 Current Loss: 0.010257483460009098\n",
      "Epoch 3 Running\n",
      "Epoch Number: 3 Current Loss: 0.004829504992812872\n",
      "Epoch Number: 3 Current Loss: 0.007642331533133984\n",
      "Epoch Number: 3 Current Loss: 0.006550301797688007\n",
      "Epoch Number: 3 Current Loss: 0.011652079410851002\n",
      "Epoch Number: 3 Current Loss: 0.006177701521664858\n",
      "Epoch 4 Running\n",
      "Epoch Number: 4 Current Loss: 0.003948570694774389\n",
      "Epoch Number: 4 Current Loss: 0.007829702459275723\n",
      "Epoch Number: 4 Current Loss: 0.00482257641851902\n",
      "Epoch Number: 4 Current Loss: 0.002114374190568924\n",
      "Epoch Number: 4 Current Loss: 0.002953003393486142\n",
      "Epoch 5 Running\n",
      "Epoch Number: 5 Current Loss: 0.001457658945582807\n",
      "Epoch Number: 5 Current Loss: 0.003327606013044715\n",
      "Epoch Number: 5 Current Loss: 0.004142387304455042\n",
      "Epoch Number: 5 Current Loss: 0.004702791105955839\n",
      "Epoch Number: 5 Current Loss: 0.00560322031378746\n",
      "Epoch 6 Running\n",
      "Epoch Number: 6 Current Loss: 0.0011180826695635915\n",
      "Epoch Number: 6 Current Loss: 0.0018336764769628644\n",
      "Epoch Number: 6 Current Loss: 0.002512162085622549\n",
      "Epoch Number: 6 Current Loss: 0.011452368460595608\n",
      "Epoch Number: 6 Current Loss: 0.0010977844940498471\n",
      "Epoch 7 Running\n",
      "Epoch Number: 7 Current Loss: 0.004344630520790815\n",
      "Epoch Number: 7 Current Loss: 0.0021583945490419865\n",
      "Epoch Number: 7 Current Loss: 0.004217350389808416\n",
      "Epoch Number: 7 Current Loss: 0.002613106509670615\n",
      "Epoch Number: 7 Current Loss: 0.002821718342602253\n",
      "Epoch 8 Running\n",
      "Epoch Number: 8 Current Loss: 0.0005566347972489893\n",
      "Epoch Number: 8 Current Loss: 0.0013672404456883669\n",
      "Epoch Number: 8 Current Loss: 0.0007716408581472933\n",
      "Epoch Number: 8 Current Loss: 0.0013625682331621647\n",
      "Epoch Number: 8 Current Loss: 0.0036856750957667828\n",
      "Epoch 9 Running\n",
      "Epoch Number: 9 Current Loss: 0.0010517806513234973\n",
      "Epoch Number: 9 Current Loss: 0.0010525076650083065\n",
      "Epoch Number: 9 Current Loss: 0.0007299177814275026\n",
      "Epoch Number: 9 Current Loss: 0.0005735518061555922\n",
      "Epoch Number: 9 Current Loss: 0.0008244617492891848\n",
      "Epoch 10 Running\n",
      "Epoch Number: 10 Current Loss: 0.0006869693752378225\n",
      "Epoch Number: 10 Current Loss: 0.0010714048985391855\n",
      "Epoch Number: 10 Current Loss: 0.0006027482450008392\n",
      "Epoch Number: 10 Current Loss: 0.0009858745615929365\n",
      "Epoch Number: 10 Current Loss: 0.0007950147264637053\n",
      "Epoch 11 Running\n",
      "Epoch Number: 11 Current Loss: 0.004643663298338652\n",
      "Epoch Number: 11 Current Loss: 0.00015667265688534826\n",
      "Epoch Number: 11 Current Loss: 0.000802203023340553\n",
      "Epoch Number: 11 Current Loss: 0.00035813290742225945\n",
      "Epoch Number: 11 Current Loss: 0.00047963851829990745\n",
      "Epoch 12 Running\n",
      "Epoch Number: 12 Current Loss: 0.00037157151382416487\n",
      "Epoch Number: 12 Current Loss: 0.00038958489312790334\n",
      "Epoch Number: 12 Current Loss: 0.00021645896777044982\n",
      "Epoch Number: 12 Current Loss: 0.0005494539509527385\n",
      "Epoch Number: 12 Current Loss: 0.00010297479457221925\n",
      "Epoch 13 Running\n",
      "Epoch Number: 13 Current Loss: 0.00029351349803619087\n",
      "Epoch Number: 13 Current Loss: 0.0006374893710017204\n",
      "Epoch Number: 13 Current Loss: 0.0004933515447191894\n",
      "Epoch Number: 13 Current Loss: 0.0005463547422550619\n",
      "Epoch Number: 13 Current Loss: 0.0001403937494615093\n",
      "Epoch 14 Running\n",
      "Epoch Number: 14 Current Loss: 0.00043619636562652886\n",
      "Epoch Number: 14 Current Loss: 0.0006816941895522177\n",
      "Epoch Number: 14 Current Loss: 0.0002913829230237752\n",
      "Epoch Number: 14 Current Loss: 0.00014612838276661932\n",
      "Epoch Number: 14 Current Loss: 0.002094070892781019\n",
      "Epoch 15 Running\n",
      "Epoch Number: 15 Current Loss: 0.0004813912382815033\n",
      "Epoch Number: 15 Current Loss: 0.00042723066871985793\n",
      "Epoch Number: 15 Current Loss: 0.00024475547252222896\n",
      "Epoch Number: 15 Current Loss: 0.00021648185793310404\n",
      "Epoch Number: 15 Current Loss: 0.0001301147713093087\n",
      "Epoch 16 Running\n",
      "Epoch Number: 16 Current Loss: 0.0011518133105710149\n",
      "Epoch Number: 16 Current Loss: 0.0014205675106495619\n",
      "Epoch Number: 16 Current Loss: 0.00021766712598036975\n",
      "Epoch Number: 16 Current Loss: 0.0002952291979454458\n",
      "Epoch Number: 16 Current Loss: 0.0001021861462504603\n",
      "Epoch 17 Running\n",
      "Epoch Number: 17 Current Loss: 0.0006633346201851964\n",
      "Epoch Number: 17 Current Loss: 0.0005218044389039278\n",
      "Epoch Number: 17 Current Loss: 0.0013138497015461326\n",
      "Epoch Number: 17 Current Loss: 0.0006463117897510529\n",
      "Epoch Number: 17 Current Loss: 0.0002476212684996426\n",
      "Epoch 18 Running\n",
      "Epoch Number: 18 Current Loss: 0.0006568017997778952\n",
      "Epoch Number: 18 Current Loss: 0.0007179737440310419\n",
      "Epoch Number: 18 Current Loss: 0.0005146893090568483\n",
      "Epoch Number: 18 Current Loss: 0.00025806771009229124\n",
      "Epoch Number: 18 Current Loss: 0.00019724509911611676\n",
      "Epoch 19 Running\n",
      "Epoch Number: 19 Current Loss: 6.988534732954577e-05\n",
      "Epoch Number: 19 Current Loss: 0.0006703348481096327\n",
      "Epoch Number: 19 Current Loss: 0.0010139007354155183\n",
      "Epoch Number: 19 Current Loss: 6.0640792071353644e-05\n",
      "Epoch Number: 19 Current Loss: 0.0009244519751518965\n"
     ]
    },
    {
     "data": {
      "image/png": "[encoded data removed]",
      "text/plain": [
       "<Figure size 432x288 with 1 Axes>"
      ]
     },
     "metadata": {
      "needs_background": "light"
     },
     "output_type": "display_data"
    }
   ],
   "source": [
    "for epoch in range(Config.train_number_epochs):\n",
    "    print(\"Epoch {} Running\".format(epoch))\n",
    "    for i, data in enumerate(train_dataloader, 0):\n",
    "        imgs, label = data\n",
    "        optimizer.zero_grad()\n",
    "        output1, output2 = net(imgs[0], imgs[1])\n",
    "        loss_contrastive = criterion(output1, output2, label)\n",
    "        loss_contrastive.backward()\n",
    "        optimizer.step()\n",
    "        if i % 100 == 0:\n",
    "            print(\"Epoch Number: {} Current Loss: {}\".format(epoch,loss_contrastive.item()))\n",
    "            iteration_number += 10\n",
    "            counter.append(iteration_number)\n",
    "            loss_list.append(loss_contrastive.item())\n",
    "            \n",
    "show_plot(counter, loss_list)"
   ]
  },
  {
   "cell_type": "markdown",
   "metadata": {},
   "source": [
    "## SAVING MODEL"
   ]
  },
  {
   "cell_type": "code",
   "execution_count": 25,
   "metadata": {},
   "outputs": [
    {
     "name": "stderr",
     "output_type": "stream",
     "text": [
      "/Users/saivineethks/anaconda3/envs/pytorch/lib/python3.6/site-packages/torch/serialization.py:241: UserWarning: Couldn't retrieve source code for container of type SiameseNeuralNetwork. It won't be checked for correctness upon loading.\n",
      "  \"type \" + obj.__name__ + \". It won't be checked \"\n"
     ]
    }
   ],
   "source": [
    "\n",
    "torch.save(net, Config.saving_dir)"
   ]
  },
  {
   "cell_type": "markdown",
   "metadata": {},
   "source": [
    "# LOADING MODEL"
   ]
  },
  {
   "cell_type": "code",
   "execution_count": 26,
   "metadata": {},
   "outputs": [],
   "source": [
    "model = torch.load(Config.saving_dir)"
   ]
  },
  {
   "cell_type": "markdown",
   "metadata": {},
   "source": [
    "# Validation"
   ]
  },
  {
   "cell_type": "code",
   "execution_count": 34,
   "metadata": {},
   "outputs": [
    {
     "name": "stderr",
     "output_type": "stream",
     "text": [
      "WARNING:matplotlib.image:Clipping input data to the valid range for imshow with RGB data ([0..1] for floats or [0..255] for integers).\n"
     ]
    },
    {
     "data": {
      "image/png": "[encoded data removed]",
      "text/plain": [
       "<Figure size 432x288 with 1 Axes>"
      ]
     },
     "metadata": {
      "needs_background": "light"
     },
     "output_type": "display_data"
    },
    {
     "name": "stderr",
     "output_type": "stream",
     "text": [
      "WARNING:matplotlib.image:Clipping input data to the valid range for imshow with RGB data ([0..1] for floats or [0..255] for integers).\n"
     ]
    },
    {
     "data": {
      "image/png": "[encoded data removed]",
      "text/plain": [
       "<Figure size 432x288 with 1 Axes>"
      ]
     },
     "metadata": {
      "needs_background": "light"
     },
     "output_type": "display_data"
    },
    {
     "name": "stderr",
     "output_type": "stream",
     "text": [
      "WARNING:matplotlib.image:Clipping input data to the valid range for imshow with RGB data ([0..1] for floats or [0..255] for integers).\n"
     ]
    },
    {
     "data": {
      "image/png": "[encoded data removed]",
      "text/plain": [
       "<Figure size 432x288 with 1 Axes>"
      ]
     },
     "metadata": {
      "needs_background": "light"
     },
     "output_type": "display_data"
    },
    {
     "name": "stderr",
     "output_type": "stream",
     "text": [
      "WARNING:matplotlib.image:Clipping input data to the valid range for imshow with RGB data ([0..1] for floats or [0..255] for integers).\n"
     ]
    },
    {
     "data": {
      "image/png": "[encoded data removed]",
      "text/plain": [
       "<Figure size 432x288 with 1 Axes>"
      ]
     },
     "metadata": {
      "needs_background": "light"
     },
     "output_type": "display_data"
    },
    {
     "name": "stderr",
     "output_type": "stream",
     "text": [
      "WARNING:matplotlib.image:Clipping input data to the valid range for imshow with RGB data ([0..1] for floats or [0..255] for integers).\n"
     ]
    },
    {
     "data": {
      "image/png": "[encoded data removed]",
      "text/plain": [
       "<Figure size 432x288 with 1 Axes>"
      ]
     },
     "metadata": {
      "needs_background": "light"
     },
     "output_type": "display_data"
    },
    {
     "name": "stderr",
     "output_type": "stream",
     "text": [
      "WARNING:matplotlib.image:Clipping input data to the valid range for imshow with RGB data ([0..1] for floats or [0..255] for integers).\n"
     ]
    },
    {
     "data": {
      "image/png": "[encoded data removed]",
      "text/plain": [
       "<Figure size 432x288 with 1 Axes>"
      ]
     },
     "metadata": {
      "needs_background": "light"
     },
     "output_type": "display_data"
    },
    {
     "name": "stderr",
     "output_type": "stream",
     "text": [
      "WARNING:matplotlib.image:Clipping input data to the valid range for imshow with RGB data ([0..1] for floats or [0..255] for integers).\n"
     ]
    },
    {
     "data": {
      "image/png": "[encoded data removed]",
      "text/plain": [
       "<Figure size 432x288 with 1 Axes>"
      ]
     },
     "metadata": {
      "needs_background": "light"
     },
     "output_type": "display_data"
    },
    {
     "name": "stderr",
     "output_type": "stream",
     "text": [
      "WARNING:matplotlib.image:Clipping input data to the valid range for imshow with RGB data ([0..1] for floats or [0..255] for integers).\n"
     ]
    },
    {
     "data": {
      "image/png": "[encoded data removed]",
      "text/plain": [
       "<Figure size 432x288 with 1 Axes>"
      ]
     },
     "metadata": {
      "needs_background": "light"
     },
     "output_type": "display_data"
    },
    {
     "name": "stderr",
     "output_type": "stream",
     "text": [
      "WARNING:matplotlib.image:Clipping input data to the valid range for imshow with RGB data ([0..1] for floats or [0..255] for integers).\n"
     ]
    },
    {
     "data": {
      "image/png": "[encoded data removed]",
      "text/plain": [
       "<Figure size 432x288 with 1 Axes>"
      ]
     },
     "metadata": {
      "needs_background": "light"
     },
     "output_type": "display_data"
    },
    {
     "name": "stderr",
     "output_type": "stream",
     "text": [
      "WARNING:matplotlib.image:Clipping input data to the valid range for imshow with RGB data ([0..1] for floats or [0..255] for integers).\n"
     ]
    },
    {
     "data": {
      "image/png": "[encoded data removed]",
      "text/plain": [
       "<Figure size 432x288 with 1 Axes>"
      ]
     },
     "metadata": {
      "needs_background": "light"
     },
     "output_type": "display_data"
    }
   ],
   "source": [
    "test_dataloader = DataLoader(mnist_test_dataset,num_workers=4,batch_size=1,shuffle=True)\n",
    "dataiter = iter(test_dataloader)\n",
    "imgs,_ = next(dataiter)\n",
    "x0 = imgs[0]\n",
    "\n",
    "for i in range(10):\n",
    "    imgs,label2 = next(dataiter)\n",
    "    x1 = imgs[1]\n",
    "    concatenated = torch.cat((x0,x1),0)    \n",
    "    output1,output2 = model(Variable(x0),Variable(x1))\n",
    "    euclidean_distance = F.pairwise_distance(output1, output2)\n",
    "    imshow(torchvision.utils.make_grid(concatenated),'Dissimilarity: {:.2f}'.format(euclidean_distance.item()))\n",
    "\n",
    "\n"
   ]
  },
  {
   "cell_type": "code",
   "execution_count": null,
   "metadata": {},
   "outputs": [],
   "source": []
  }
 ],
 "metadata": {
  "kernelspec": {
   "display_name": "Python 3",
   "language": "python",
   "name": "python3"
  },
  "language_info": {
   "codemirror_mode": {
    "name": "ipython",
    "version": 3
   },
   "file_extension": ".py",
   "mimetype": "text/x-python",
   "name": "python",
   "nbconvert_exporter": "python",
   "pygments_lexer": "ipython3",
   "version": "3.6.6"
  }
 },
 "nbformat": 4,
 "nbformat_minor": 2
}
